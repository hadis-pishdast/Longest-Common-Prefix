{
 "cells": [
  {
   "cell_type": "code",
   "execution_count": 6,
   "metadata": {},
   "outputs": [],
   "source": [
    "from operator import itemgetter\n",
    "from itertools import takewhile\n",
    "\n",
    "def longestCommonPrefix(strs):\n",
    "        separator = \"\"\n",
    "        return separator.join(map(itemgetter(0), takewhile(lambda x: len(set(x))==1, zip(*strs))))\n",
    "\n",
    "\n",
    "# join method = creates strings from iterable objects / it joins each elemnts of iterable (such as list, tuple, string) by a string separator and returns the concatenated string\n",
    "\n",
    "# map function: applies a given function to each item of an iterable & returns a list \n",
    "# map() syntax : map(function , iterable , ...)\n",
    "\n",
    "# itemgetter() \n",
    "# we have a module -> operator  # library\n",
    "# from operator import itemgetter # it returns the item that you want itemgetter(0)-->[(1),2,3,4]\n",
    "\n",
    "# takewhile\n",
    "# we have module -> itertools .\n",
    "# takewhile(function , input)\n",
    "\n",
    "# zip = The zip() function takes iterables aggregates them in a tuple, and return it.\n",
    "# zip(*x) it means we zip one by one (*) elemants from each item  "
   ]
  },
  {
   "cell_type": "code",
   "execution_count": 7,
   "metadata": {},
   "outputs": [
    {
     "data": {
      "text/plain": [
       "'fl'"
      ]
     },
     "execution_count": 7,
     "metadata": {},
     "output_type": "execute_result"
    }
   ],
   "source": [
    "longestCommonPrefix(['flower' , 'flight' , 'flo' ])"
   ]
  },
  {
   "cell_type": "code",
   "execution_count": 8,
   "metadata": {},
   "outputs": [
    {
     "data": {
      "text/plain": [
       "''"
      ]
     },
     "execution_count": 8,
     "metadata": {},
     "output_type": "execute_result"
    }
   ],
   "source": [
    "longestCommonPrefix(['flower' , 'flight' , 'flo' , 'apple'])"
   ]
  },
  {
   "cell_type": "code",
   "execution_count": 9,
   "metadata": {},
   "outputs": [
    {
     "data": {
      "text/plain": [
       "'f'"
      ]
     },
     "execution_count": 9,
     "metadata": {},
     "output_type": "execute_result"
    }
   ],
   "source": [
    "longestCommonPrefix(['flower' , 'flight' , 'f2lo' ])"
   ]
  },
  {
   "cell_type": "code",
   "execution_count": 10,
   "metadata": {},
   "outputs": [
    {
     "data": {
      "text/plain": [
       "''"
      ]
     },
     "execution_count": 10,
     "metadata": {},
     "output_type": "execute_result"
    }
   ],
   "source": [
    "longestCommonPrefix(['Flower' , 'flight' , 'flo' ])"
   ]
  },
  {
   "cell_type": "code",
   "execution_count": null,
   "metadata": {},
   "outputs": [],
   "source": []
  }
 ],
 "metadata": {
  "kernelspec": {
   "display_name": "Python 3",
   "language": "python",
   "name": "python3"
  },
  "language_info": {
   "codemirror_mode": {
    "name": "ipython",
    "version": 3
   },
   "file_extension": ".py",
   "mimetype": "text/x-python",
   "name": "python",
   "nbconvert_exporter": "python",
   "pygments_lexer": "ipython3",
   "version": "3.7.0"
  }
 },
 "nbformat": 4,
 "nbformat_minor": 4
}
